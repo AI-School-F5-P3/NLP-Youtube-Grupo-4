{
 "cells": [
  {
   "cell_type": "code",
   "execution_count": 25,
   "metadata": {},
   "outputs": [],
   "source": [
    "import pandas as pd\n",
    "from sklearn.model_selection import train_test_split\n",
    "from tensorflow.keras.preprocessing.text import Tokenizer\n",
    "from tensorflow.keras.preprocessing.sequence import pad_sequences\n",
    "from tensorflow.keras.models import Sequential\n",
    "from tensorflow.keras.layers import Embedding, LSTM, Dense, Dropout\n",
    "from tensorflow.keras.optimizers import Adam"
   ]
  },
  {
   "cell_type": "code",
   "execution_count": 31,
   "metadata": {},
   "outputs": [],
   "source": [
    "# Load the dataset\n",
    "df = pd.read_csv('data/youmultihatred.csv')"
   ]
  },
  {
   "cell_type": "code",
   "execution_count": 32,
   "metadata": {},
   "outputs": [
    {
     "data": {
      "text/plain": [
       "Index(['Text', 'IsToxic', 'IsAbusive', 'IsProvocative', 'IsObscene',\n",
       "       'IsHatespeech', 'IsRacist'],\n",
       "      dtype='object')"
      ]
     },
     "execution_count": 32,
     "metadata": {},
     "output_type": "execute_result"
    }
   ],
   "source": [
    "df.columns"
   ]
  },
  {
   "cell_type": "code",
   "execution_count": 35,
   "metadata": {},
   "outputs": [],
   "source": [
    "import re\n",
    "\n",
    "# Convert text to lowercase, remove unnecessary blank spaces, URLs, and special characters\n",
    "def preprocess_text(text):\n",
    "    text = text.lower()\n",
    "    text = re.sub(r'http\\S+', '', text)  # remove URLs\n",
    "    text = re.sub(r'\\s+', ' ', text).strip()  # remove extra spaces\n",
    "    text = re.sub(r'[^a-zA-Z0-9\\s]', '', text)  # remove special characters\n",
    "    return text\n",
    "\n",
    "df['Text'] = df['Text'].apply(preprocess_text)"
   ]
  },
  {
   "cell_type": "code",
   "execution_count": 36,
   "metadata": {},
   "outputs": [
    {
     "name": "stdout",
     "output_type": "stream",
     "text": [
      "Epoch 1/10\n",
      "20/20 [==============================] - 5s 135ms/step - loss: 0.5487 - accuracy: 0.7141 - val_loss: 0.4653 - val_accuracy: 1.0000\n",
      "Epoch 2/10\n",
      "20/20 [==============================] - 2s 97ms/step - loss: 0.4832 - accuracy: 0.8609 - val_loss: 0.4623 - val_accuracy: 1.0000\n",
      "Epoch 3/10\n",
      "20/20 [==============================] - 2s 93ms/step - loss: 0.4819 - accuracy: 0.9000 - val_loss: 0.4614 - val_accuracy: 1.0000\n",
      "Epoch 4/10\n",
      "20/20 [==============================] - 2s 93ms/step - loss: 0.4763 - accuracy: 0.9187 - val_loss: 0.4593 - val_accuracy: 1.0000\n",
      "Epoch 5/10\n",
      "20/20 [==============================] - 2s 95ms/step - loss: 0.4623 - accuracy: 0.8703 - val_loss: 0.4640 - val_accuracy: 0.9688\n",
      "Epoch 6/10\n",
      "20/20 [==============================] - 2s 95ms/step - loss: 0.4050 - accuracy: 0.8125 - val_loss: 0.4561 - val_accuracy: 1.0000\n",
      "Epoch 7/10\n",
      "20/20 [==============================] - 2s 95ms/step - loss: 0.3108 - accuracy: 0.8047 - val_loss: 0.4900 - val_accuracy: 0.9563\n",
      "Epoch 8/10\n",
      "20/20 [==============================] - 2s 97ms/step - loss: 0.2518 - accuracy: 0.7063 - val_loss: 0.5193 - val_accuracy: 0.9563\n",
      "Epoch 9/10\n",
      "20/20 [==============================] - 2s 94ms/step - loss: 0.2118 - accuracy: 0.6172 - val_loss: 0.5844 - val_accuracy: 0.8438\n",
      "Epoch 10/10\n",
      "20/20 [==============================] - 2s 96ms/step - loss: 0.1725 - accuracy: 0.5219 - val_loss: 0.6312 - val_accuracy: 0.7437\n",
      "7/7 [==============================] - 1s 31ms/step\n"
     ]
    }
   ],
   "source": [
    "\n",
    "# Preprocess the data\n",
    "texts = df['Text'].values\n",
    "labels = df[['IsToxic', 'IsAbusive', 'IsProvocative', 'IsObscene', 'IsHatespeech', 'IsRacist']].values\n",
    "\n",
    "# Tokenize the text\n",
    "tokenizer = Tokenizer(num_words=10000)\n",
    "tokenizer.fit_on_texts(texts)\n",
    "sequences = tokenizer.texts_to_sequences(texts)\n",
    "word_index = tokenizer.word_index\n",
    "\n",
    "# Pad the sequences\n",
    "data = pad_sequences(sequences, maxlen=100)\n",
    "\n",
    "# Split the data into training and testing sets\n",
    "X_train, X_test, y_train, y_test = train_test_split(data, labels, test_size=0.2, random_state=42)\n",
    "\n",
    "# Build the model\n",
    "model = Sequential()\n",
    "model.add(Embedding(input_dim=10000, output_dim=128, input_length=100))\n",
    "model.add(LSTM(128, return_sequences=True))\n",
    "model.add(Dropout(0.2))\n",
    "model.add(LSTM(128))\n",
    "model.add(Dropout(0.2))\n",
    "model.add(Dense(6, activation='sigmoid'))\n",
    "\n",
    "# Compile the model\n",
    "model.compile(optimizer=Adam(learning_rate=0.001), loss='binary_crossentropy', metrics=['accuracy'])\n",
    "\n",
    "# Train the model\n",
    "model.fit(X_train, y_train, epochs=10, batch_size=32, validation_split=0.2)\n",
    "\n",
    "# Predict the probabilities\n",
    "predictions = model.predict(X_test)\n"
   ]
  },
  {
   "cell_type": "code",
   "execution_count": 37,
   "metadata": {},
   "outputs": [
    {
     "name": "stdout",
     "output_type": "stream",
     "text": [
      "Training Loss: 0.2445\n",
      "Training Accuracy: 0.5400\n",
      "Testing Loss: 0.7143\n",
      "Testing Accuracy: 0.7300\n",
      "Overfitting Percentage: -35.19%\n",
      "The model is not overfitting.\n"
     ]
    }
   ],
   "source": [
    "# Evaluate the model on the training data\n",
    "train_loss, train_accuracy = model.evaluate(X_train, y_train, verbose=0)\n",
    "print(f'Training Loss: {train_loss:.4f}')\n",
    "print(f'Training Accuracy: {train_accuracy:.4f}')\n",
    "\n",
    "# Evaluate the model on the testing data\n",
    "test_loss, test_accuracy = model.evaluate(X_test, y_test, verbose=0)\n",
    "print(f'Testing Loss: {test_loss:.4f}')\n",
    "print(f'Testing Accuracy: {test_accuracy:.4f}')\n",
    "\n",
    "overfitting_percentage = ((train_accuracy - test_accuracy) / train_accuracy) * 100\n",
    "\n",
    "print(f'Overfitting Percentage: {overfitting_percentage:.2f}%')\n",
    "\n",
    "# Check for overfitting\n",
    "if train_accuracy > test_accuracy:\n",
    "    print(\"The model is overfitting.\")\n",
    "else:\n",
    "    print(\"The model is not overfitting.\")"
   ]
  },
  {
   "cell_type": "code",
   "execution_count": null,
   "metadata": {},
   "outputs": [
    {
     "name": "stdout",
     "output_type": "stream",
     "text": [
      "1/1 [==============================] - 0s 70ms/step\n",
      "Prediction probabilities:\n",
      "toxic: 0.95\n",
      "severe_toxic: 0.70\n",
      "obscene: 0.20\n",
      "threat: 0.04\n",
      "insult: 0.28\n",
      "identity_hate: 0.24\n"
     ]
    }
   ],
   "source": [
    "# Sample text\n",
    "input_text = 'You freaking scumbag! I hate you.'\n",
    "\n",
    "# Preprocess text\n",
    "# Convert to sequence\n",
    "sequence = tokenizer.texts_to_sequences([input_text])\n",
    "\n",
    "# Pad sequence\n",
    "padded_sequence = pad_sequences(sequence, maxlen=100)\n",
    "\n",
    "# Predict\n",
    "probabilities = model.predict(padded_sequence)\n",
    "\n",
    "# Print results\n",
    "labels = ['toxic', 'severe_toxic', 'obscene', 'threat', 'insult', 'identity_hate']\n",
    "print(\"Prediction probabilities:\")\n",
    "for label, prob in zip(labels, probabilities[0]):\n",
    "    print(f\"{label}: {prob:.2f}\")\n"
   ]
  },
  {
   "cell_type": "code",
   "execution_count": 39,
   "metadata": {},
   "outputs": [],
   "source": [
    "model.save('models/text_classification_model.h5')"
   ]
  },
  {
   "cell_type": "code",
   "execution_count": 41,
   "metadata": {},
   "outputs": [],
   "source": [
    "import tf2onnx\n",
    "import onnx\n",
    "\n",
    "# Convert the Keras model to ONNX format\n",
    "onnx_model, _ = tf2onnx.convert.from_keras(model)\n",
    "\n",
    "# Save the ONNX model to a file\n",
    "onnx.save(onnx_model, 'models/text_classification_model.onnx')"
   ]
  },
  {
   "cell_type": "code",
   "execution_count": 42,
   "metadata": {},
   "outputs": [],
   "source": [
    "import pickle\n",
    "\n",
    "# Save tokenizer\n",
    "with open('models/tokenizer.pickle', 'wb') as handle:\n",
    "    pickle.dump(tokenizer, handle, protocol=pickle.HIGHEST_PROTOCOL)"
   ]
  }
 ],
 "metadata": {
  "kernelspec": {
   "display_name": "youtoxic_nlp",
   "language": "python",
   "name": "python3"
  },
  "language_info": {
   "codemirror_mode": {
    "name": "ipython",
    "version": 3
   },
   "file_extension": ".py",
   "mimetype": "text/x-python",
   "name": "python",
   "nbconvert_exporter": "python",
   "pygments_lexer": "ipython3",
   "version": "3.9.0"
  }
 },
 "nbformat": 4,
 "nbformat_minor": 2
}
