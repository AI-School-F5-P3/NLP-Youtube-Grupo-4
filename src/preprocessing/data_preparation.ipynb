{
 "cells": [
  {
   "cell_type": "markdown",
   "metadata": {},
   "source": [
    "Este notebook contiene todo el código necesario para la fase 1 del proyecto **youtube-hate-speech-detector**. Aquí se realiza la carga, exploración, preprocesamiento y codificación de etiquetas del dataset para prepararlo para el entrenamiento del modelo.\n",
    "\n",
    "---\n",
    "\n",
    "## 1. Cargar y Explorar el Dataset\n",
    "\n",
    "En esta sección, cargamos el dataset desde la carpeta `data/raw/` y realizamos un análisis exploratorio inicial para entender su estructura, identificar posibles problemas (como valores nulos) y observar la distribución de las etiquetas.\n",
    "\n",
    "### 1.1 Importar Bibliotecas Necesarias"
   ]
  },
  {
   "cell_type": "code",
   "execution_count": 5,
   "metadata": {},
   "outputs": [],
   "source": [
    "import pandas as pd"
   ]
  },
  {
   "cell_type": "markdown",
   "metadata": {},
   "source": [
    "### 1.2 Cargar el Dataset"
   ]
  },
  {
   "cell_type": "code",
   "execution_count": 6,
   "metadata": {},
   "outputs": [
    {
     "name": "stdout",
     "output_type": "stream",
     "text": [
      "Primeras 5 filas del dataset:\n"
     ]
    },
    {
     "data": {
      "application/vnd.microsoft.datawrangler.viewer.v0+json": {
       "columns": [
        {
         "name": "index",
         "rawType": "int64",
         "type": "integer"
        },
        {
         "name": "CommentId",
         "rawType": "object",
         "type": "string"
        },
        {
         "name": "VideoId",
         "rawType": "object",
         "type": "string"
        },
        {
         "name": "Text",
         "rawType": "object",
         "type": "string"
        },
        {
         "name": "IsToxic",
         "rawType": "bool",
         "type": "boolean"
        },
        {
         "name": "IsAbusive",
         "rawType": "bool",
         "type": "boolean"
        },
        {
         "name": "IsThreat",
         "rawType": "bool",
         "type": "boolean"
        },
        {
         "name": "IsProvocative",
         "rawType": "bool",
         "type": "boolean"
        },
        {
         "name": "IsObscene",
         "rawType": "bool",
         "type": "boolean"
        },
        {
         "name": "IsHatespeech",
         "rawType": "bool",
         "type": "boolean"
        },
        {
         "name": "IsRacist",
         "rawType": "bool",
         "type": "boolean"
        },
        {
         "name": "IsNationalist",
         "rawType": "bool",
         "type": "boolean"
        },
        {
         "name": "IsSexist",
         "rawType": "bool",
         "type": "boolean"
        },
        {
         "name": "IsHomophobic",
         "rawType": "bool",
         "type": "boolean"
        },
        {
         "name": "IsReligiousHate",
         "rawType": "bool",
         "type": "boolean"
        },
        {
         "name": "IsRadicalism",
         "rawType": "bool",
         "type": "boolean"
        }
       ],
       "conversionMethod": "pd.DataFrame",
       "ref": "22b3a677-e652-4d71-9067-e6200b048886",
       "rows": [
        [
         "0",
         "Ugg2KwwX0V8-aXgCoAEC",
         "04kJtp6pVXI",
         "If only people would just take a step back and not make this case about them, because it wasn't about anyone except the two people in that situation.  To lump yourself into this mess and take matters into your own hands makes these kinds of protests selfish and without rational thought and investigation.  The guy in this video is heavily emotional and hyped up and wants to be heard, and when he gets heard he just presses more and more.  He was never out to have a reasonable discussion.  Kudos to the Smerconish for keeping level the whole time and letting Masri make himself out to be a fool.  How dare he and those that tore that city down in protest make this about themselves and to dishonor the entire incident with their own hate.  By the way, since when did police brutality become an epidemic?  I wish everyone would just stop pretending like they were there and they knew EXACTLY what was going on, because there's no measurable amount of people that honestly witnessed this incident, so none of us have a clue on which way this whole issue should have swung.  The grand jury were the most informed, we have to trust the majority rule was the right course of action and let it be.  Also, thank you to the 99.999% of police officers in America that actually serve & protect, even if you're a bit of a jerk when you pull me over, I respect your job and know that someone has to do it and that many people are going to pout about being held accountable to their actions.  People hate police until they need an officer or two around in an emergency.",
         "False",
         "False",
         "False",
         "False",
         "False",
         "False",
         "False",
         "False",
         "False",
         "False",
         "False",
         "False"
        ],
        [
         "1",
         "Ugg2s5AzSPioEXgCoAEC",
         "04kJtp6pVXI",
         "Law enforcement is not trained to shoot to apprehend.  They are trained to shoot to kill.  And I thank Wilson for killing that punk bitch.",
         "True",
         "True",
         "False",
         "False",
         "False",
         "False",
         "False",
         "False",
         "False",
         "False",
         "False",
         "False"
        ],
        [
         "2",
         "Ugg3dWTOxryFfHgCoAEC",
         "04kJtp6pVXI",
         "\nDont you reckon them 'black lives matter' banners being held by white cunts is  kinda patronizing and ironically racist. could they have not come up with somethin better.. or is it just what white folks do to give them selves pride. 'ooo look at me im being nice for the black people' why does it always have to be about race actually the whole world is pussyfootin around for fear of being racist. its fuckin daft man.",
         "True",
         "True",
         "False",
         "False",
         "True",
         "False",
         "False",
         "False",
         "False",
         "False",
         "False",
         "False"
        ],
        [
         "3",
         "Ugg7Gd006w1MPngCoAEC",
         "04kJtp6pVXI",
         "There are a very large number of people who do not like police officers. They are called Criminals and its the reason we have police officers. The fact that Criminals do not like police officers is a testament to the good work that police officers do in protecting the public. When our children or our family are in danger, we do not hessitate to call for help, and we call the Police. Its about time people stopped complaining and started to give the Police some respect for the hard work and dedication that often requires them to put their lives on the line, to serve the public.",
         "False",
         "False",
         "False",
         "False",
         "False",
         "False",
         "False",
         "False",
         "False",
         "False",
         "False",
         "False"
        ],
        [
         "4",
         "Ugg8FfTbbNF8IngCoAEC",
         "04kJtp6pVXI",
         "The Arab dude is absolutely right, he should have not been shot 6 extra time. Shoot him once if hes attacking you and that would stop his attack. Shoot him twice if he's still attacking you, but six times? That is shoot to kill in my opinion. ",
         "False",
         "False",
         "False",
         "False",
         "False",
         "False",
         "False",
         "False",
         "False",
         "False",
         "False",
         "False"
        ]
       ],
       "shape": {
        "columns": 15,
        "rows": 5
       }
      },
      "text/html": [
       "<div>\n",
       "<style scoped>\n",
       "    .dataframe tbody tr th:only-of-type {\n",
       "        vertical-align: middle;\n",
       "    }\n",
       "\n",
       "    .dataframe tbody tr th {\n",
       "        vertical-align: top;\n",
       "    }\n",
       "\n",
       "    .dataframe thead th {\n",
       "        text-align: right;\n",
       "    }\n",
       "</style>\n",
       "<table border=\"1\" class=\"dataframe\">\n",
       "  <thead>\n",
       "    <tr style=\"text-align: right;\">\n",
       "      <th></th>\n",
       "      <th>CommentId</th>\n",
       "      <th>VideoId</th>\n",
       "      <th>Text</th>\n",
       "      <th>IsToxic</th>\n",
       "      <th>IsAbusive</th>\n",
       "      <th>IsThreat</th>\n",
       "      <th>IsProvocative</th>\n",
       "      <th>IsObscene</th>\n",
       "      <th>IsHatespeech</th>\n",
       "      <th>IsRacist</th>\n",
       "      <th>IsNationalist</th>\n",
       "      <th>IsSexist</th>\n",
       "      <th>IsHomophobic</th>\n",
       "      <th>IsReligiousHate</th>\n",
       "      <th>IsRadicalism</th>\n",
       "    </tr>\n",
       "  </thead>\n",
       "  <tbody>\n",
       "    <tr>\n",
       "      <th>0</th>\n",
       "      <td>Ugg2KwwX0V8-aXgCoAEC</td>\n",
       "      <td>04kJtp6pVXI</td>\n",
       "      <td>If only people would just take a step back and...</td>\n",
       "      <td>False</td>\n",
       "      <td>False</td>\n",
       "      <td>False</td>\n",
       "      <td>False</td>\n",
       "      <td>False</td>\n",
       "      <td>False</td>\n",
       "      <td>False</td>\n",
       "      <td>False</td>\n",
       "      <td>False</td>\n",
       "      <td>False</td>\n",
       "      <td>False</td>\n",
       "      <td>False</td>\n",
       "    </tr>\n",
       "    <tr>\n",
       "      <th>1</th>\n",
       "      <td>Ugg2s5AzSPioEXgCoAEC</td>\n",
       "      <td>04kJtp6pVXI</td>\n",
       "      <td>Law enforcement is not trained to shoot to app...</td>\n",
       "      <td>True</td>\n",
       "      <td>True</td>\n",
       "      <td>False</td>\n",
       "      <td>False</td>\n",
       "      <td>False</td>\n",
       "      <td>False</td>\n",
       "      <td>False</td>\n",
       "      <td>False</td>\n",
       "      <td>False</td>\n",
       "      <td>False</td>\n",
       "      <td>False</td>\n",
       "      <td>False</td>\n",
       "    </tr>\n",
       "    <tr>\n",
       "      <th>2</th>\n",
       "      <td>Ugg3dWTOxryFfHgCoAEC</td>\n",
       "      <td>04kJtp6pVXI</td>\n",
       "      <td>\\nDont you reckon them 'black lives matter' ba...</td>\n",
       "      <td>True</td>\n",
       "      <td>True</td>\n",
       "      <td>False</td>\n",
       "      <td>False</td>\n",
       "      <td>True</td>\n",
       "      <td>False</td>\n",
       "      <td>False</td>\n",
       "      <td>False</td>\n",
       "      <td>False</td>\n",
       "      <td>False</td>\n",
       "      <td>False</td>\n",
       "      <td>False</td>\n",
       "    </tr>\n",
       "    <tr>\n",
       "      <th>3</th>\n",
       "      <td>Ugg7Gd006w1MPngCoAEC</td>\n",
       "      <td>04kJtp6pVXI</td>\n",
       "      <td>There are a very large number of people who do...</td>\n",
       "      <td>False</td>\n",
       "      <td>False</td>\n",
       "      <td>False</td>\n",
       "      <td>False</td>\n",
       "      <td>False</td>\n",
       "      <td>False</td>\n",
       "      <td>False</td>\n",
       "      <td>False</td>\n",
       "      <td>False</td>\n",
       "      <td>False</td>\n",
       "      <td>False</td>\n",
       "      <td>False</td>\n",
       "    </tr>\n",
       "    <tr>\n",
       "      <th>4</th>\n",
       "      <td>Ugg8FfTbbNF8IngCoAEC</td>\n",
       "      <td>04kJtp6pVXI</td>\n",
       "      <td>The Arab dude is absolutely right, he should h...</td>\n",
       "      <td>False</td>\n",
       "      <td>False</td>\n",
       "      <td>False</td>\n",
       "      <td>False</td>\n",
       "      <td>False</td>\n",
       "      <td>False</td>\n",
       "      <td>False</td>\n",
       "      <td>False</td>\n",
       "      <td>False</td>\n",
       "      <td>False</td>\n",
       "      <td>False</td>\n",
       "      <td>False</td>\n",
       "    </tr>\n",
       "  </tbody>\n",
       "</table>\n",
       "</div>"
      ],
      "text/plain": [
       "              CommentId      VideoId  \\\n",
       "0  Ugg2KwwX0V8-aXgCoAEC  04kJtp6pVXI   \n",
       "1  Ugg2s5AzSPioEXgCoAEC  04kJtp6pVXI   \n",
       "2  Ugg3dWTOxryFfHgCoAEC  04kJtp6pVXI   \n",
       "3  Ugg7Gd006w1MPngCoAEC  04kJtp6pVXI   \n",
       "4  Ugg8FfTbbNF8IngCoAEC  04kJtp6pVXI   \n",
       "\n",
       "                                                Text  IsToxic  IsAbusive  \\\n",
       "0  If only people would just take a step back and...    False      False   \n",
       "1  Law enforcement is not trained to shoot to app...     True       True   \n",
       "2  \\nDont you reckon them 'black lives matter' ba...     True       True   \n",
       "3  There are a very large number of people who do...    False      False   \n",
       "4  The Arab dude is absolutely right, he should h...    False      False   \n",
       "\n",
       "   IsThreat  IsProvocative  IsObscene  IsHatespeech  IsRacist  IsNationalist  \\\n",
       "0     False          False      False         False     False          False   \n",
       "1     False          False      False         False     False          False   \n",
       "2     False          False       True         False     False          False   \n",
       "3     False          False      False         False     False          False   \n",
       "4     False          False      False         False     False          False   \n",
       "\n",
       "   IsSexist  IsHomophobic  IsReligiousHate  IsRadicalism  \n",
       "0     False         False            False         False  \n",
       "1     False         False            False         False  \n",
       "2     False         False            False         False  \n",
       "3     False         False            False         False  \n",
       "4     False         False            False         False  "
      ]
     },
     "metadata": {},
     "output_type": "display_data"
    }
   ],
   "source": [
    "# Cargar el dataset\n",
    "df = pd.read_csv('../../data/raw/dataset.csv')\n",
    "\n",
    "# Mostrar las primeras 5 filas\n",
    "print(\"Primeras 5 filas del dataset:\")\n",
    "display(df.head())"
   ]
  },
  {
   "cell_type": "markdown",
   "metadata": {},
   "source": [
    "### 1.3 Información General del Dataset\n",
    "Utilizamos `info()` para ver las columnas, tipos de datos y si hay valores nulos."
   ]
  },
  {
   "cell_type": "code",
   "execution_count": 7,
   "metadata": {},
   "outputs": [
    {
     "name": "stdout",
     "output_type": "stream",
     "text": [
      "\n",
      "Información del dataset:\n",
      "<class 'pandas.core.frame.DataFrame'>\n",
      "RangeIndex: 1000 entries, 0 to 999\n",
      "Data columns (total 15 columns):\n",
      " #   Column           Non-Null Count  Dtype \n",
      "---  ------           --------------  ----- \n",
      " 0   CommentId        1000 non-null   object\n",
      " 1   VideoId          1000 non-null   object\n",
      " 2   Text             1000 non-null   object\n",
      " 3   IsToxic          1000 non-null   bool  \n",
      " 4   IsAbusive        1000 non-null   bool  \n",
      " 5   IsThreat         1000 non-null   bool  \n",
      " 6   IsProvocative    1000 non-null   bool  \n",
      " 7   IsObscene        1000 non-null   bool  \n",
      " 8   IsHatespeech     1000 non-null   bool  \n",
      " 9   IsRacist         1000 non-null   bool  \n",
      " 10  IsNationalist    1000 non-null   bool  \n",
      " 11  IsSexist         1000 non-null   bool  \n",
      " 12  IsHomophobic     1000 non-null   bool  \n",
      " 13  IsReligiousHate  1000 non-null   bool  \n",
      " 14  IsRadicalism     1000 non-null   bool  \n",
      "dtypes: bool(12), object(3)\n",
      "memory usage: 35.3+ KB\n"
     ]
    }
   ],
   "source": [
    "print(\"\\nInformación del dataset:\")\n",
    "df.info()"
   ]
  },
  {
   "cell_type": "markdown",
   "metadata": {},
   "source": [
    "### 1.4 Verificar Valores Nulos\n",
    "Comprobamos si hay valores faltantes en alguna columna."
   ]
  },
  {
   "cell_type": "code",
   "execution_count": 8,
   "metadata": {},
   "outputs": [
    {
     "name": "stdout",
     "output_type": "stream",
     "text": [
      "\n",
      "Valores nulos por columna:\n",
      "CommentId          0\n",
      "VideoId            0\n",
      "Text               0\n",
      "IsToxic            0\n",
      "IsAbusive          0\n",
      "IsThreat           0\n",
      "IsProvocative      0\n",
      "IsObscene          0\n",
      "IsHatespeech       0\n",
      "IsRacist           0\n",
      "IsNationalist      0\n",
      "IsSexist           0\n",
      "IsHomophobic       0\n",
      "IsReligiousHate    0\n",
      "IsRadicalism       0\n",
      "dtype: int64\n"
     ]
    }
   ],
   "source": [
    "print(\"\\nValores nulos por columna:\")\n",
    "print(df.isnull().sum())"
   ]
  },
  {
   "cell_type": "markdown",
   "metadata": {},
   "source": [
    "### 1.5 Estadísticas Descriptivas\n",
    "Aunque las etiquetas son categóricas, `describe()` puede proporcionar información útil sobre columnas numéricas si las hubiera."
   ]
  },
  {
   "cell_type": "code",
   "execution_count": 9,
   "metadata": {},
   "outputs": [
    {
     "name": "stdout",
     "output_type": "stream",
     "text": [
      "\n",
      "Estadísticas descriptivas:\n"
     ]
    },
    {
     "data": {
      "application/vnd.microsoft.datawrangler.viewer.v0+json": {
       "columns": [
        {
         "name": "index",
         "rawType": "object",
         "type": "string"
        },
        {
         "name": "CommentId",
         "rawType": "object",
         "type": "unknown"
        },
        {
         "name": "VideoId",
         "rawType": "object",
         "type": "unknown"
        },
        {
         "name": "Text",
         "rawType": "object",
         "type": "unknown"
        },
        {
         "name": "IsToxic",
         "rawType": "object",
         "type": "unknown"
        },
        {
         "name": "IsAbusive",
         "rawType": "object",
         "type": "unknown"
        },
        {
         "name": "IsThreat",
         "rawType": "object",
         "type": "unknown"
        },
        {
         "name": "IsProvocative",
         "rawType": "object",
         "type": "unknown"
        },
        {
         "name": "IsObscene",
         "rawType": "object",
         "type": "unknown"
        },
        {
         "name": "IsHatespeech",
         "rawType": "object",
         "type": "unknown"
        },
        {
         "name": "IsRacist",
         "rawType": "object",
         "type": "unknown"
        },
        {
         "name": "IsNationalist",
         "rawType": "object",
         "type": "unknown"
        },
        {
         "name": "IsSexist",
         "rawType": "object",
         "type": "unknown"
        },
        {
         "name": "IsHomophobic",
         "rawType": "object",
         "type": "unknown"
        },
        {
         "name": "IsReligiousHate",
         "rawType": "object",
         "type": "unknown"
        },
        {
         "name": "IsRadicalism",
         "rawType": "object",
         "type": "unknown"
        }
       ],
       "conversionMethod": "pd.DataFrame",
       "ref": "e8cb024f-f69e-4a2d-804f-47f88a1030cd",
       "rows": [
        [
         "count",
         "1000",
         "1000",
         "1000",
         "1000",
         "1000",
         "1000",
         "1000",
         "1000",
         "1000",
         "1000",
         "1000",
         "1000",
         "1000",
         "1000",
         "1000"
        ],
        [
         "unique",
         "1000",
         "13",
         "997",
         "2",
         "2",
         "2",
         "2",
         "2",
         "2",
         "2",
         "2",
         "2",
         "1",
         "2",
         "1"
        ],
        [
         "top",
         "UgjBJKQSoQMQ6ngCoAEC",
         "9pr1oE34bIM",
         "run them over",
         "False",
         "False",
         "False",
         "False",
         "False",
         "False",
         "False",
         "False",
         "False",
         "False",
         "False",
         "False"
        ],
        [
         "freq",
         "1",
         "274",
         "3",
         "538",
         "647",
         "979",
         "839",
         "900",
         "862",
         "875",
         "992",
         "999",
         "1000",
         "988",
         "1000"
        ]
       ],
       "shape": {
        "columns": 15,
        "rows": 4
       }
      },
      "text/html": [
       "<div>\n",
       "<style scoped>\n",
       "    .dataframe tbody tr th:only-of-type {\n",
       "        vertical-align: middle;\n",
       "    }\n",
       "\n",
       "    .dataframe tbody tr th {\n",
       "        vertical-align: top;\n",
       "    }\n",
       "\n",
       "    .dataframe thead th {\n",
       "        text-align: right;\n",
       "    }\n",
       "</style>\n",
       "<table border=\"1\" class=\"dataframe\">\n",
       "  <thead>\n",
       "    <tr style=\"text-align: right;\">\n",
       "      <th></th>\n",
       "      <th>CommentId</th>\n",
       "      <th>VideoId</th>\n",
       "      <th>Text</th>\n",
       "      <th>IsToxic</th>\n",
       "      <th>IsAbusive</th>\n",
       "      <th>IsThreat</th>\n",
       "      <th>IsProvocative</th>\n",
       "      <th>IsObscene</th>\n",
       "      <th>IsHatespeech</th>\n",
       "      <th>IsRacist</th>\n",
       "      <th>IsNationalist</th>\n",
       "      <th>IsSexist</th>\n",
       "      <th>IsHomophobic</th>\n",
       "      <th>IsReligiousHate</th>\n",
       "      <th>IsRadicalism</th>\n",
       "    </tr>\n",
       "  </thead>\n",
       "  <tbody>\n",
       "    <tr>\n",
       "      <th>count</th>\n",
       "      <td>1000</td>\n",
       "      <td>1000</td>\n",
       "      <td>1000</td>\n",
       "      <td>1000</td>\n",
       "      <td>1000</td>\n",
       "      <td>1000</td>\n",
       "      <td>1000</td>\n",
       "      <td>1000</td>\n",
       "      <td>1000</td>\n",
       "      <td>1000</td>\n",
       "      <td>1000</td>\n",
       "      <td>1000</td>\n",
       "      <td>1000</td>\n",
       "      <td>1000</td>\n",
       "      <td>1000</td>\n",
       "    </tr>\n",
       "    <tr>\n",
       "      <th>unique</th>\n",
       "      <td>1000</td>\n",
       "      <td>13</td>\n",
       "      <td>997</td>\n",
       "      <td>2</td>\n",
       "      <td>2</td>\n",
       "      <td>2</td>\n",
       "      <td>2</td>\n",
       "      <td>2</td>\n",
       "      <td>2</td>\n",
       "      <td>2</td>\n",
       "      <td>2</td>\n",
       "      <td>2</td>\n",
       "      <td>1</td>\n",
       "      <td>2</td>\n",
       "      <td>1</td>\n",
       "    </tr>\n",
       "    <tr>\n",
       "      <th>top</th>\n",
       "      <td>UgjBJKQSoQMQ6ngCoAEC</td>\n",
       "      <td>9pr1oE34bIM</td>\n",
       "      <td>run them over</td>\n",
       "      <td>False</td>\n",
       "      <td>False</td>\n",
       "      <td>False</td>\n",
       "      <td>False</td>\n",
       "      <td>False</td>\n",
       "      <td>False</td>\n",
       "      <td>False</td>\n",
       "      <td>False</td>\n",
       "      <td>False</td>\n",
       "      <td>False</td>\n",
       "      <td>False</td>\n",
       "      <td>False</td>\n",
       "    </tr>\n",
       "    <tr>\n",
       "      <th>freq</th>\n",
       "      <td>1</td>\n",
       "      <td>274</td>\n",
       "      <td>3</td>\n",
       "      <td>538</td>\n",
       "      <td>647</td>\n",
       "      <td>979</td>\n",
       "      <td>839</td>\n",
       "      <td>900</td>\n",
       "      <td>862</td>\n",
       "      <td>875</td>\n",
       "      <td>992</td>\n",
       "      <td>999</td>\n",
       "      <td>1000</td>\n",
       "      <td>988</td>\n",
       "      <td>1000</td>\n",
       "    </tr>\n",
       "  </tbody>\n",
       "</table>\n",
       "</div>"
      ],
      "text/plain": [
       "                   CommentId      VideoId           Text IsToxic IsAbusive  \\\n",
       "count                   1000         1000           1000    1000      1000   \n",
       "unique                  1000           13            997       2         2   \n",
       "top     UgjBJKQSoQMQ6ngCoAEC  9pr1oE34bIM  run them over   False     False   \n",
       "freq                       1          274              3     538       647   \n",
       "\n",
       "       IsThreat IsProvocative IsObscene IsHatespeech IsRacist IsNationalist  \\\n",
       "count      1000          1000      1000         1000     1000          1000   \n",
       "unique        2             2         2            2        2             2   \n",
       "top       False         False     False        False    False         False   \n",
       "freq        979           839       900          862      875           992   \n",
       "\n",
       "       IsSexist IsHomophobic IsReligiousHate IsRadicalism  \n",
       "count      1000         1000            1000         1000  \n",
       "unique        2            1               2            1  \n",
       "top       False        False           False        False  \n",
       "freq        999         1000             988         1000  "
      ]
     },
     "metadata": {},
     "output_type": "display_data"
    }
   ],
   "source": [
    "print(\"\\nEstadísticas descriptivas:\")\n",
    "display(df.describe())"
   ]
  },
  {
   "cell_type": "markdown",
   "metadata": {},
   "source": [
    "### 1.6 Distribución de las Etiquetas\n",
    "Es importante entender cuántos comentarios están etiquetados como `TRUE` o `FALSE` para cada categoría, lo que nos ayudará a identificar posibles desbalances."
   ]
  },
  {
   "cell_type": "code",
   "execution_count": 10,
   "metadata": {},
   "outputs": [
    {
     "name": "stdout",
     "output_type": "stream",
     "text": [
      "\n",
      "Distribución de IsToxic:\n",
      "IsToxic\n",
      "False    538\n",
      "True     462\n",
      "Name: count, dtype: int64\n",
      "\n",
      "Distribución de IsAbusive:\n",
      "IsAbusive\n",
      "False    647\n",
      "True     353\n",
      "Name: count, dtype: int64\n",
      "\n",
      "Distribución de IsThreat:\n",
      "IsThreat\n",
      "False    979\n",
      "True      21\n",
      "Name: count, dtype: int64\n",
      "\n",
      "Distribución de IsProvocative:\n",
      "IsProvocative\n",
      "False    839\n",
      "True     161\n",
      "Name: count, dtype: int64\n",
      "\n",
      "Distribución de IsObscene:\n",
      "IsObscene\n",
      "False    900\n",
      "True     100\n",
      "Name: count, dtype: int64\n",
      "\n",
      "Distribución de IsHatespeech:\n",
      "IsHatespeech\n",
      "False    862\n",
      "True     138\n",
      "Name: count, dtype: int64\n",
      "\n",
      "Distribución de IsRacist:\n",
      "IsRacist\n",
      "False    875\n",
      "True     125\n",
      "Name: count, dtype: int64\n",
      "\n",
      "Distribución de IsNationalist:\n",
      "IsNationalist\n",
      "False    992\n",
      "True       8\n",
      "Name: count, dtype: int64\n",
      "\n",
      "Distribución de IsSexist:\n",
      "IsSexist\n",
      "False    999\n",
      "True       1\n",
      "Name: count, dtype: int64\n",
      "\n",
      "Distribución de IsHomophobic:\n",
      "IsHomophobic\n",
      "False    1000\n",
      "Name: count, dtype: int64\n",
      "\n",
      "Distribución de IsReligiousHate:\n",
      "IsReligiousHate\n",
      "False    988\n",
      "True      12\n",
      "Name: count, dtype: int64\n",
      "\n",
      "Distribución de IsRadicalism:\n",
      "IsRadicalism\n",
      "False    1000\n",
      "Name: count, dtype: int64\n"
     ]
    }
   ],
   "source": [
    "# Lista de columnas de etiquetas\n",
    "label_columns = ['IsToxic', 'IsAbusive', 'IsThreat', 'IsProvocative', 'IsObscene', \n",
    "                 'IsHatespeech', 'IsRacist', 'IsNationalist', 'IsSexist', \n",
    "                 'IsHomophobic', 'IsReligiousHate', 'IsRadicalism']\n",
    "\n",
    "# Mostrar la distribución de cada etiqueta\n",
    "for col in label_columns:\n",
    "    print(f\"\\nDistribución de {col}:\")\n",
    "    print(df[col].value_counts())"
   ]
  },
  {
   "cell_type": "markdown",
   "metadata": {},
   "source": [
    "---\n",
    "\n",
    "## 2. Preprocesar el Texto\n",
    "\n",
    "En esta sección, limpiamos y preparamos el texto de la columna `Text` para el modelo. Utilizamos **SpaCy** para realizar tareas como convertir a minúsculas, eliminar caracteres especiales, lematizar y eliminar stopwords.\n",
    "\n",
    "### 2.1 Importar Bibliotecas Necesarias"
   ]
  },
  {
   "cell_type": "code",
   "execution_count": 11,
   "metadata": {},
   "outputs": [],
   "source": [
    "import spacy\n",
    "import re\n",
    "\n",
    "# Cargar el modelo de SpaCy para inglés\n",
    "nlp = spacy.load('en_core_web_sm')"
   ]
  },
  {
   "cell_type": "markdown",
   "metadata": {},
   "source": [
    "### 2.2 Definir Función de Preprocesamiento\n",
    "Creamos una función que limpia y tokeniza el texto."
   ]
  },
  {
   "cell_type": "code",
   "execution_count": 12,
   "metadata": {},
   "outputs": [],
   "source": [
    "def preprocess_text(text):\n",
    "    \"\"\"\n",
    "    Función para preprocesar el texto:\n",
    "    - Convertir a minúsculas\n",
    "    - Eliminar caracteres especiales y números\n",
    "    - Lematizar y eliminar stopwords\n",
    "    \"\"\"\n",
    "    # Convertir a minúsculas\n",
    "    text = text.lower()\n",
    "    # Eliminar caracteres especiales y números\n",
    "    text = re.sub(r'[^a-z\\s]', '', text)\n",
    "    # Procesar con SpaCy\n",
    "    doc = nlp(text)\n",
    "    # Lematizar y eliminar stopwords\n",
    "    tokens = [token.lemma_ for token in doc if not token.is_stop]\n",
    "    return ' '.join(tokens)"
   ]
  },
  {
   "cell_type": "markdown",
   "metadata": {},
   "source": [
    "### 2.3 Aplicar Preprocesamiento a la Columna `Text`\n",
    "Aplicamos la función de preprocesamiento a cada comentario y almacenamos el resultado en una nueva columna `ProcessedText`."
   ]
  },
  {
   "cell_type": "code",
   "execution_count": 13,
   "metadata": {},
   "outputs": [
    {
     "name": "stdout",
     "output_type": "stream",
     "text": [
      "Texto original vs. Texto preprocesado:\n"
     ]
    },
    {
     "data": {
      "application/vnd.microsoft.datawrangler.viewer.v0+json": {
       "columns": [
        {
         "name": "index",
         "rawType": "int64",
         "type": "integer"
        },
        {
         "name": "Text",
         "rawType": "object",
         "type": "string"
        },
        {
         "name": "ProcessedText",
         "rawType": "object",
         "type": "string"
        }
       ],
       "conversionMethod": "pd.DataFrame",
       "ref": "5919fa7b-3327-4dd0-93e8-068e3e0b9931",
       "rows": [
        [
         "0",
         "If only people would just take a step back and not make this case about them, because it wasn't about anyone except the two people in that situation.  To lump yourself into this mess and take matters into your own hands makes these kinds of protests selfish and without rational thought and investigation.  The guy in this video is heavily emotional and hyped up and wants to be heard, and when he gets heard he just presses more and more.  He was never out to have a reasonable discussion.  Kudos to the Smerconish for keeping level the whole time and letting Masri make himself out to be a fool.  How dare he and those that tore that city down in protest make this about themselves and to dishonor the entire incident with their own hate.  By the way, since when did police brutality become an epidemic?  I wish everyone would just stop pretending like they were there and they knew EXACTLY what was going on, because there's no measurable amount of people that honestly witnessed this incident, so none of us have a clue on which way this whole issue should have swung.  The grand jury were the most informed, we have to trust the majority rule was the right course of action and let it be.  Also, thank you to the 99.999% of police officers in America that actually serve & protect, even if you're a bit of a jerk when you pull me over, I respect your job and know that someone has to do it and that many people are going to pout about being held accountable to their actions.  People hate police until they need an officer or two around in an emergency.",
         "people step case not people situation    lump mess matter hand make kind protest selfish rational thought investigation    guy video heavily emotional hype want hear get hear press    reasonable discussion    kudo smerconish keep level time let masri fool    dare tear city protest dishonor entire incident hate    way police brutality epidemic    wish stop pretend like know exactly go s measurable people honestly witness incident clue way issue swing    grand jury informed trust majority rule right course action let    thank   police officer america   actually serve   protect bit jerk pull respect job know people go pout hold accountable action    people hate police need officer emergency"
        ],
        [
         "1",
         "Law enforcement is not trained to shoot to apprehend.  They are trained to shoot to kill.  And I thank Wilson for killing that punk bitch.",
         "law enforcement train shoot apprehend   train shoot kill   thank wilson kill punk bitch"
        ],
        [
         "2",
         "\nDont you reckon them 'black lives matter' banners being held by white cunts is  kinda patronizing and ironically racist. could they have not come up with somethin better.. or is it just what white folks do to give them selves pride. 'ooo look at me im being nice for the black people' why does it always have to be about race actually the whole world is pussyfootin around for fear of being racist. its fuckin daft man.",
         "\n not reckon black life matter banner hold white cunt   kinda patronizing ironically racist come somethin well white folk self pride ooo look m nice black people race actually world pussyfootin fear racist fuckin daft man"
        ],
        [
         "3",
         "There are a very large number of people who do not like police officers. They are called Criminals and its the reason we have police officers. The fact that Criminals do not like police officers is a testament to the good work that police officers do in protecting the public. When our children or our family are in danger, we do not hessitate to call for help, and we call the Police. Its about time people stopped complaining and started to give the Police some respect for the hard work and dedication that often requires them to put their lives on the line, to serve the public.",
         "large number people like police officer call criminal reason police officer fact criminal like police officer testament good work police officer protect public child family danger hessitate help police time people stop complain start police respect hard work dedication require life line serve public"
        ],
        [
         "4",
         "The Arab dude is absolutely right, he should have not been shot 6 extra time. Shoot him once if hes attacking you and that would stop his attack. Shoot him twice if he's still attacking you, but six times? That is shoot to kill in my opinion. ",
         "arab dude absolutely right shoot   extra time shoot s attack stop attack shoot twice s attack time shoot kill opinion  "
        ]
       ],
       "shape": {
        "columns": 2,
        "rows": 5
       }
      },
      "text/html": [
       "<div>\n",
       "<style scoped>\n",
       "    .dataframe tbody tr th:only-of-type {\n",
       "        vertical-align: middle;\n",
       "    }\n",
       "\n",
       "    .dataframe tbody tr th {\n",
       "        vertical-align: top;\n",
       "    }\n",
       "\n",
       "    .dataframe thead th {\n",
       "        text-align: right;\n",
       "    }\n",
       "</style>\n",
       "<table border=\"1\" class=\"dataframe\">\n",
       "  <thead>\n",
       "    <tr style=\"text-align: right;\">\n",
       "      <th></th>\n",
       "      <th>Text</th>\n",
       "      <th>ProcessedText</th>\n",
       "    </tr>\n",
       "  </thead>\n",
       "  <tbody>\n",
       "    <tr>\n",
       "      <th>0</th>\n",
       "      <td>If only people would just take a step back and...</td>\n",
       "      <td>people step case not people situation    lump ...</td>\n",
       "    </tr>\n",
       "    <tr>\n",
       "      <th>1</th>\n",
       "      <td>Law enforcement is not trained to shoot to app...</td>\n",
       "      <td>law enforcement train shoot apprehend   train ...</td>\n",
       "    </tr>\n",
       "    <tr>\n",
       "      <th>2</th>\n",
       "      <td>\\nDont you reckon them 'black lives matter' ba...</td>\n",
       "      <td>\\n not reckon black life matter banner hold wh...</td>\n",
       "    </tr>\n",
       "    <tr>\n",
       "      <th>3</th>\n",
       "      <td>There are a very large number of people who do...</td>\n",
       "      <td>large number people like police officer call c...</td>\n",
       "    </tr>\n",
       "    <tr>\n",
       "      <th>4</th>\n",
       "      <td>The Arab dude is absolutely right, he should h...</td>\n",
       "      <td>arab dude absolutely right shoot   extra time ...</td>\n",
       "    </tr>\n",
       "  </tbody>\n",
       "</table>\n",
       "</div>"
      ],
      "text/plain": [
       "                                                Text  \\\n",
       "0  If only people would just take a step back and...   \n",
       "1  Law enforcement is not trained to shoot to app...   \n",
       "2  \\nDont you reckon them 'black lives matter' ba...   \n",
       "3  There are a very large number of people who do...   \n",
       "4  The Arab dude is absolutely right, he should h...   \n",
       "\n",
       "                                       ProcessedText  \n",
       "0  people step case not people situation    lump ...  \n",
       "1  law enforcement train shoot apprehend   train ...  \n",
       "2  \\n not reckon black life matter banner hold wh...  \n",
       "3  large number people like police officer call c...  \n",
       "4  arab dude absolutely right shoot   extra time ...  "
      ]
     },
     "metadata": {},
     "output_type": "display_data"
    }
   ],
   "source": [
    "df['ProcessedText'] = df['Text'].apply(preprocess_text)\n",
    "\n",
    "# Mostrar resultados\n",
    "print(\"Texto original vs. Texto preprocesado:\")\n",
    "display(df[['Text', 'ProcessedText']].head())"
   ]
  },
  {
   "cell_type": "markdown",
   "metadata": {},
   "source": [
    "---\n",
    "\n",
    "## 3. Codificar las Etiquetas\n",
    "\n",
    "Convertimos las etiquetas booleanas (`TRUE`/`FALSE`) en valores numéricos (`1`/`0`) para que el modelo pueda procesarlas. Dado que es un problema de clasificación multi-etiqueta, cada etiqueta se mantiene como una columna binaria independiente.\n",
    "\n",
    "### 3.1 Codificar Etiquetas a Numéricas"
   ]
  },
  {
   "cell_type": "code",
   "execution_count": 15,
   "metadata": {},
   "outputs": [
    {
     "name": "stdout",
     "output_type": "stream",
     "text": [
      "Etiquetas convertidas a numéricas:\n"
     ]
    },
    {
     "data": {
      "application/vnd.microsoft.datawrangler.viewer.v0+json": {
       "columns": [
        {
         "name": "index",
         "rawType": "int64",
         "type": "integer"
        },
        {
         "name": "IsToxic",
         "rawType": "int64",
         "type": "integer"
        },
        {
         "name": "IsAbusive",
         "rawType": "int64",
         "type": "integer"
        },
        {
         "name": "IsThreat",
         "rawType": "int64",
         "type": "integer"
        },
        {
         "name": "IsProvocative",
         "rawType": "int64",
         "type": "integer"
        },
        {
         "name": "IsObscene",
         "rawType": "int64",
         "type": "integer"
        },
        {
         "name": "IsHatespeech",
         "rawType": "int64",
         "type": "integer"
        },
        {
         "name": "IsRacist",
         "rawType": "int64",
         "type": "integer"
        },
        {
         "name": "IsNationalist",
         "rawType": "int64",
         "type": "integer"
        },
        {
         "name": "IsSexist",
         "rawType": "int64",
         "type": "integer"
        },
        {
         "name": "IsHomophobic",
         "rawType": "int64",
         "type": "integer"
        },
        {
         "name": "IsReligiousHate",
         "rawType": "int64",
         "type": "integer"
        },
        {
         "name": "IsRadicalism",
         "rawType": "int64",
         "type": "integer"
        }
       ],
       "conversionMethod": "pd.DataFrame",
       "ref": "a393a004-f307-4c25-ae2b-1abba7f33485",
       "rows": [
        [
         "0",
         "0",
         "0",
         "0",
         "0",
         "0",
         "0",
         "0",
         "0",
         "0",
         "0",
         "0",
         "0"
        ],
        [
         "1",
         "1",
         "1",
         "0",
         "0",
         "0",
         "0",
         "0",
         "0",
         "0",
         "0",
         "0",
         "0"
        ],
        [
         "2",
         "1",
         "1",
         "0",
         "0",
         "1",
         "0",
         "0",
         "0",
         "0",
         "0",
         "0",
         "0"
        ],
        [
         "3",
         "0",
         "0",
         "0",
         "0",
         "0",
         "0",
         "0",
         "0",
         "0",
         "0",
         "0",
         "0"
        ],
        [
         "4",
         "0",
         "0",
         "0",
         "0",
         "0",
         "0",
         "0",
         "0",
         "0",
         "0",
         "0",
         "0"
        ]
       ],
       "shape": {
        "columns": 12,
        "rows": 5
       }
      },
      "text/html": [
       "<div>\n",
       "<style scoped>\n",
       "    .dataframe tbody tr th:only-of-type {\n",
       "        vertical-align: middle;\n",
       "    }\n",
       "\n",
       "    .dataframe tbody tr th {\n",
       "        vertical-align: top;\n",
       "    }\n",
       "\n",
       "    .dataframe thead th {\n",
       "        text-align: right;\n",
       "    }\n",
       "</style>\n",
       "<table border=\"1\" class=\"dataframe\">\n",
       "  <thead>\n",
       "    <tr style=\"text-align: right;\">\n",
       "      <th></th>\n",
       "      <th>IsToxic</th>\n",
       "      <th>IsAbusive</th>\n",
       "      <th>IsThreat</th>\n",
       "      <th>IsProvocative</th>\n",
       "      <th>IsObscene</th>\n",
       "      <th>IsHatespeech</th>\n",
       "      <th>IsRacist</th>\n",
       "      <th>IsNationalist</th>\n",
       "      <th>IsSexist</th>\n",
       "      <th>IsHomophobic</th>\n",
       "      <th>IsReligiousHate</th>\n",
       "      <th>IsRadicalism</th>\n",
       "    </tr>\n",
       "  </thead>\n",
       "  <tbody>\n",
       "    <tr>\n",
       "      <th>0</th>\n",
       "      <td>0</td>\n",
       "      <td>0</td>\n",
       "      <td>0</td>\n",
       "      <td>0</td>\n",
       "      <td>0</td>\n",
       "      <td>0</td>\n",
       "      <td>0</td>\n",
       "      <td>0</td>\n",
       "      <td>0</td>\n",
       "      <td>0</td>\n",
       "      <td>0</td>\n",
       "      <td>0</td>\n",
       "    </tr>\n",
       "    <tr>\n",
       "      <th>1</th>\n",
       "      <td>1</td>\n",
       "      <td>1</td>\n",
       "      <td>0</td>\n",
       "      <td>0</td>\n",
       "      <td>0</td>\n",
       "      <td>0</td>\n",
       "      <td>0</td>\n",
       "      <td>0</td>\n",
       "      <td>0</td>\n",
       "      <td>0</td>\n",
       "      <td>0</td>\n",
       "      <td>0</td>\n",
       "    </tr>\n",
       "    <tr>\n",
       "      <th>2</th>\n",
       "      <td>1</td>\n",
       "      <td>1</td>\n",
       "      <td>0</td>\n",
       "      <td>0</td>\n",
       "      <td>1</td>\n",
       "      <td>0</td>\n",
       "      <td>0</td>\n",
       "      <td>0</td>\n",
       "      <td>0</td>\n",
       "      <td>0</td>\n",
       "      <td>0</td>\n",
       "      <td>0</td>\n",
       "    </tr>\n",
       "    <tr>\n",
       "      <th>3</th>\n",
       "      <td>0</td>\n",
       "      <td>0</td>\n",
       "      <td>0</td>\n",
       "      <td>0</td>\n",
       "      <td>0</td>\n",
       "      <td>0</td>\n",
       "      <td>0</td>\n",
       "      <td>0</td>\n",
       "      <td>0</td>\n",
       "      <td>0</td>\n",
       "      <td>0</td>\n",
       "      <td>0</td>\n",
       "    </tr>\n",
       "    <tr>\n",
       "      <th>4</th>\n",
       "      <td>0</td>\n",
       "      <td>0</td>\n",
       "      <td>0</td>\n",
       "      <td>0</td>\n",
       "      <td>0</td>\n",
       "      <td>0</td>\n",
       "      <td>0</td>\n",
       "      <td>0</td>\n",
       "      <td>0</td>\n",
       "      <td>0</td>\n",
       "      <td>0</td>\n",
       "      <td>0</td>\n",
       "    </tr>\n",
       "  </tbody>\n",
       "</table>\n",
       "</div>"
      ],
      "text/plain": [
       "   IsToxic  IsAbusive  IsThreat  IsProvocative  IsObscene  IsHatespeech  \\\n",
       "0        0          0         0              0          0             0   \n",
       "1        1          1         0              0          0             0   \n",
       "2        1          1         0              0          1             0   \n",
       "3        0          0         0              0          0             0   \n",
       "4        0          0         0              0          0             0   \n",
       "\n",
       "   IsRacist  IsNationalist  IsSexist  IsHomophobic  IsReligiousHate  \\\n",
       "0         0              0         0             0                0   \n",
       "1         0              0         0             0                0   \n",
       "2         0              0         0             0                0   \n",
       "3         0              0         0             0                0   \n",
       "4         0              0         0             0                0   \n",
       "\n",
       "   IsRadicalism  \n",
       "0             0  \n",
       "1             0  \n",
       "2             0  \n",
       "3             0  \n",
       "4             0  "
      ]
     },
     "metadata": {},
     "output_type": "display_data"
    }
   ],
   "source": [
    "# Convertir TRUE/FALSE a 1/0 para cada columna de etiqueta\n",
    "for col in label_columns:\n",
    "    df[col] = df[col].astype(int)\n",
    "\n",
    "# Verificar la conversión\n",
    "print(\"Etiquetas convertidas a numéricas:\")\n",
    "display(df[label_columns].head())"
   ]
  },
  {
   "cell_type": "markdown",
   "metadata": {},
   "source": [
    "### 3.2 Crear una Columna con Etiquetas Combinadas\n",
    "Algunos frameworks requieren que las etiquetas estén en un formato de lista o array. Aquí creamos una columna `Labels` con las etiquetas combinadas."
   ]
  },
  {
   "cell_type": "code",
   "execution_count": 16,
   "metadata": {},
   "outputs": [
    {
     "name": "stdout",
     "output_type": "stream",
     "text": [
      "\n",
      "Texto preprocesado y etiquetas combinadas:\n"
     ]
    },
    {
     "data": {
      "application/vnd.microsoft.datawrangler.viewer.v0+json": {
       "columns": [
        {
         "name": "index",
         "rawType": "int64",
         "type": "integer"
        },
        {
         "name": "ProcessedText",
         "rawType": "object",
         "type": "string"
        },
        {
         "name": "Labels",
         "rawType": "object",
         "type": "unknown"
        }
       ],
       "conversionMethod": "pd.DataFrame",
       "ref": "7e928bef-82b0-4b25-a313-4dff7a3befcc",
       "rows": [
        [
         "0",
         "people step case not people situation    lump mess matter hand make kind protest selfish rational thought investigation    guy video heavily emotional hype want hear get hear press    reasonable discussion    kudo smerconish keep level time let masri fool    dare tear city protest dishonor entire incident hate    way police brutality epidemic    wish stop pretend like know exactly go s measurable people honestly witness incident clue way issue swing    grand jury informed trust majority rule right course action let    thank   police officer america   actually serve   protect bit jerk pull respect job know people go pout hold accountable action    people hate police need officer emergency",
         "[0, 0, 0, 0, 0, 0, 0, 0, 0, 0, 0, 0]"
        ],
        [
         "1",
         "law enforcement train shoot apprehend   train shoot kill   thank wilson kill punk bitch",
         "[1, 1, 0, 0, 0, 0, 0, 0, 0, 0, 0, 0]"
        ],
        [
         "2",
         "\n not reckon black life matter banner hold white cunt   kinda patronizing ironically racist come somethin well white folk self pride ooo look m nice black people race actually world pussyfootin fear racist fuckin daft man",
         "[1, 1, 0, 0, 1, 0, 0, 0, 0, 0, 0, 0]"
        ],
        [
         "3",
         "large number people like police officer call criminal reason police officer fact criminal like police officer testament good work police officer protect public child family danger hessitate help police time people stop complain start police respect hard work dedication require life line serve public",
         "[0, 0, 0, 0, 0, 0, 0, 0, 0, 0, 0, 0]"
        ],
        [
         "4",
         "arab dude absolutely right shoot   extra time shoot s attack stop attack shoot twice s attack time shoot kill opinion  ",
         "[0, 0, 0, 0, 0, 0, 0, 0, 0, 0, 0, 0]"
        ]
       ],
       "shape": {
        "columns": 2,
        "rows": 5
       }
      },
      "text/html": [
       "<div>\n",
       "<style scoped>\n",
       "    .dataframe tbody tr th:only-of-type {\n",
       "        vertical-align: middle;\n",
       "    }\n",
       "\n",
       "    .dataframe tbody tr th {\n",
       "        vertical-align: top;\n",
       "    }\n",
       "\n",
       "    .dataframe thead th {\n",
       "        text-align: right;\n",
       "    }\n",
       "</style>\n",
       "<table border=\"1\" class=\"dataframe\">\n",
       "  <thead>\n",
       "    <tr style=\"text-align: right;\">\n",
       "      <th></th>\n",
       "      <th>ProcessedText</th>\n",
       "      <th>Labels</th>\n",
       "    </tr>\n",
       "  </thead>\n",
       "  <tbody>\n",
       "    <tr>\n",
       "      <th>0</th>\n",
       "      <td>people step case not people situation    lump ...</td>\n",
       "      <td>[0, 0, 0, 0, 0, 0, 0, 0, 0, 0, 0, 0]</td>\n",
       "    </tr>\n",
       "    <tr>\n",
       "      <th>1</th>\n",
       "      <td>law enforcement train shoot apprehend   train ...</td>\n",
       "      <td>[1, 1, 0, 0, 0, 0, 0, 0, 0, 0, 0, 0]</td>\n",
       "    </tr>\n",
       "    <tr>\n",
       "      <th>2</th>\n",
       "      <td>\\n not reckon black life matter banner hold wh...</td>\n",
       "      <td>[1, 1, 0, 0, 1, 0, 0, 0, 0, 0, 0, 0]</td>\n",
       "    </tr>\n",
       "    <tr>\n",
       "      <th>3</th>\n",
       "      <td>large number people like police officer call c...</td>\n",
       "      <td>[0, 0, 0, 0, 0, 0, 0, 0, 0, 0, 0, 0]</td>\n",
       "    </tr>\n",
       "    <tr>\n",
       "      <th>4</th>\n",
       "      <td>arab dude absolutely right shoot   extra time ...</td>\n",
       "      <td>[0, 0, 0, 0, 0, 0, 0, 0, 0, 0, 0, 0]</td>\n",
       "    </tr>\n",
       "  </tbody>\n",
       "</table>\n",
       "</div>"
      ],
      "text/plain": [
       "                                       ProcessedText  \\\n",
       "0  people step case not people situation    lump ...   \n",
       "1  law enforcement train shoot apprehend   train ...   \n",
       "2  \\n not reckon black life matter banner hold wh...   \n",
       "3  large number people like police officer call c...   \n",
       "4  arab dude absolutely right shoot   extra time ...   \n",
       "\n",
       "                                 Labels  \n",
       "0  [0, 0, 0, 0, 0, 0, 0, 0, 0, 0, 0, 0]  \n",
       "1  [1, 1, 0, 0, 0, 0, 0, 0, 0, 0, 0, 0]  \n",
       "2  [1, 1, 0, 0, 1, 0, 0, 0, 0, 0, 0, 0]  \n",
       "3  [0, 0, 0, 0, 0, 0, 0, 0, 0, 0, 0, 0]  \n",
       "4  [0, 0, 0, 0, 0, 0, 0, 0, 0, 0, 0, 0]  "
      ]
     },
     "metadata": {},
     "output_type": "display_data"
    }
   ],
   "source": [
    "df['Labels'] = df[label_columns].apply(lambda row: row.values.tolist(), axis=1)\n",
    "\n",
    "# Mostrar resultado\n",
    "print(\"\\nTexto preprocesado y etiquetas combinadas:\")\n",
    "display(df[['ProcessedText', 'Labels']].head())"
   ]
  },
  {
   "cell_type": "markdown",
   "metadata": {},
   "source": [
    "---\n",
    "\n",
    "## 4. Guardar el Dataset Preprocesado\n",
    "\n",
    "Opcionalmente, guardamos el dataset preprocesado en un archivo CSV.\n",
    "\n",
    "### 4.1 Exportar a CSV"
   ]
  },
  {
   "cell_type": "code",
   "execution_count": 18,
   "metadata": {},
   "outputs": [
    {
     "name": "stdout",
     "output_type": "stream",
     "text": [
      "Dataset preprocesado guardado en 'data/processed/processed_dataset.csv'\n"
     ]
    }
   ],
   "source": [
    "# Guardar el dataset preprocesado\n",
    "df.to_csv('../../data/processed/processed_dataset.csv', index=False)\n",
    "print(\"Dataset preprocesado guardado en 'data/processed/processed_dataset.csv'\")"
   ]
  }
 ],
 "metadata": {
  "kernelspec": {
   "display_name": "ytoxic",
   "language": "python",
   "name": "python3"
  },
  "language_info": {
   "codemirror_mode": {
    "name": "ipython",
    "version": 3
   },
   "file_extension": ".py",
   "mimetype": "text/x-python",
   "name": "python",
   "nbconvert_exporter": "python",
   "pygments_lexer": "ipython3",
   "version": "3.10.9"
  }
 },
 "nbformat": 4,
 "nbformat_minor": 2
}
